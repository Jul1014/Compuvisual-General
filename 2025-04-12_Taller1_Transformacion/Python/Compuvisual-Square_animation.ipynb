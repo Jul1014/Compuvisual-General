{
 "cells": [
  {
   "cell_type": "code",
   "execution_count": 1,
   "id": "cf7d96a5-6908-4b68-a13e-a1de976deb18",
   "metadata": {},
   "outputs": [],
   "source": [
    "import numpy as np\n",
    "import matplotlib.pyplot as plt\n",
    "import imageio\n",
    "import os"
   ]
  },
  {
   "cell_type": "code",
   "execution_count": 2,
   "id": "1a3d48e4-4bff-43e9-ac85-3b112f6d2c20",
   "metadata": {},
   "outputs": [
    {
     "data": {
      "image/png": "[encoded data removed]",
      "text/plain": [
       "<Figure size 600x300 with 1 Axes>"
      ]
     },
     "metadata": {},
     "output_type": "display_data"
    }
   ],
   "source": [
    "square = np.array(\n",
    "    [\n",
    "    [0, 0],\n",
    "    [1, 0],\n",
    "    [1, 1],\n",
    "    [0, 1],\n",
    "    [0, 0]\n",
    "    ]).T  # Transpuesta para facilitar cálculos\n",
    "\n",
    "# Dibujar figura\n",
    "plt.figure(figsize=(6, 3))\n",
    "plt.plot(square[0], square[1])\n",
    "plt.axis('equal')\n",
    "plt.grid(False)\n",
    "plt.title(\"Simple Square\")\n",
    "plt.show()\n",
    "\n"
   ]
  },
  {
   "cell_type": "code",
   "execution_count": 3,
   "id": "0ef5a73b-a89c-4160-80d3-bd60e7ae5a18",
   "metadata": {},
   "outputs": [],
   "source": [
    "def MatrizTraslacion(tx, ty):\n",
    "    return np.array(\n",
    "    [\n",
    "        [1, 0, tx],\n",
    "        [0, 1, ty],\n",
    "        [0, 0, 1]\n",
    "    ])\n",
    "\n",
    "def MatrizRotacion(theta):\n",
    "    return np.array(\n",
    "    [\n",
    "        [np.cos(theta), -np.sin(theta), 0],\n",
    "        [np.sin(theta),  np.cos(theta), 0],\n",
    "        [0, 0, 1]\n",
    "    ])\n",
    "\n",
    "def MatrizEscala(sx, sy):\n",
    "    return np.array([\n",
    "        [sx, 0, 0],\n",
    "        [0, sy, 0],\n",
    "        [0, 0, 1]\n",
    "    ])\n"
   ]
  },
  {
   "cell_type": "code",
   "execution_count": 5,
   "id": "98acb840-3c3f-4fb8-8e22-11b7208353c6",
   "metadata": {},
   "outputs": [],
   "source": [
    "# Crear carpeta temporal de imágenes\n",
    "if not os.path.exists(\"frames\"):\n",
    "    os.makedirs(\"frames\")\n",
    "\n",
    "frames = []\n",
    "\n",
    "square_hom = np.vstack([square, np.ones((1, square.shape[1]))])\n",
    "\n",
    "for i in range(60):\n",
    "    t = i / 60.0\n",
    "    angle = 2 * np.pi * t  # Rotación completa\n",
    "    scale = 1 + 0.5 * np.sin(angle)  # Escala oscilante\n",
    "    tx, ty = np.cos(angle), np.sin(angle)  # Traslación en círculo\n",
    "\n",
    "    M = MatrizTraslacion(tx, ty) @ MatrizRotacion(angle) @ MatrizEscala(scale, scale)\n",
    "\n",
    "    transformed = M @ square_hom\n",
    "\n",
    "    plt.figure(figsize=(5, 5))\n",
    "    plt.text(-5,5,\"Traslacion:\")\n",
    "    plt.text(-1,5,\"Rotacion:\")\n",
    "    plt.text(3,5,\"Escala:\")\n",
    "    plt.text(-5,3,np.round(MatrizTraslacion(tx, ty),2))\n",
    "    plt.text(-1,3,np.round(MatrizRotacion(angle),2))\n",
    "    plt.text(3,3,np.round(MatrizEscala(scale, scale),2))\n",
    "    plt.plot(transformed[0, :], transformed[1, :])\n",
    "    plt.title(f\"Frame {i}\")\n",
    "    plt.axis('equal')\n",
    "    plt.xlim(-6.5, 6.5)\n",
    "    plt.ylim(-6.5, 6.5)\n",
    "    filename = f\"frames/frame_{i:03d}.png\"\n",
    "    plt.savefig(filename)\n",
    "    plt.close()\n",
    "    \n",
    "    frames.append(filename)\n",
    "\n",
    "with imageio.get_writer(\"animacion.gif\", mode=\"I\", duration=0.05, loop=0) as writer:\n",
    "    for filename in frames:\n",
    "        image = imageio.v2.imread(filename)\n",
    "        writer.append_data(image)\n",
    "\n",
    "for f in frames:\n",
    "    os.remove(f)"
   ]
  },
  {
   "cell_type": "code",
   "execution_count": null,
   "id": "5d649472-50d3-43e7-9bc2-1cfe6d753144",
   "metadata": {},
   "outputs": [],
   "source": []
  }
 ],
 "metadata": {
  "kernelspec": {
   "display_name": "Python 3 (ipykernel)",
   "language": "python",
   "name": "python3"
  },
  "language_info": {
   "codemirror_mode": {
    "name": "ipython",
    "version": 3
   },
   "file_extension": ".py",
   "mimetype": "text/x-python",
   "name": "python",
   "nbconvert_exporter": "python",
   "pygments_lexer": "ipython3",
   "version": "3.12.7"
  }
 },
 "nbformat": 4,
 "nbformat_minor": 5
}
